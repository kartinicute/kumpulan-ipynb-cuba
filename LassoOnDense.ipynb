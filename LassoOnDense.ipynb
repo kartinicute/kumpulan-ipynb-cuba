{
  "nbformat": 4,
  "nbformat_minor": 0,
  "metadata": {
    "colab": {
      "name": "LassoOnDense.ipynb",
      "provenance": [],
      "include_colab_link": true
    },
    "kernelspec": {
      "name": "python3",
      "display_name": "Python 3"
    }
  },
  "cells": [
    {
      "cell_type": "markdown",
      "metadata": {
        "id": "view-in-github",
        "colab_type": "text"
      },
      "source": [
        "<a href=\"https://colab.research.google.com/github/kartinicute/kumpulan-ipynb-cuba/blob/master/LassoOnDense.ipynb\" target=\"_parent\"><img src=\"https://colab.research.google.com/assets/colab-badge.svg\" alt=\"Open In Colab\"/></a>"
      ]
    },
    {
      "cell_type": "code",
      "metadata": {
        "id": "ortGA_zUrcZR",
        "colab_type": "code",
        "colab": {
          "base_uri": "https://localhost:8080/",
          "height": 170
        },
        "outputId": "73297cc7-a878-4754-e6ff-6daba3fb849c"
      },
      "source": [
        "\n",
        "from time import time\n",
        "from scipy import sparse\n",
        "from scipy import linalg\n",
        "\n",
        "from sklearn.datasets.samples_generator import make_regression\n",
        "from sklearn.linear_model import Lasso\n",
        "\n",
        "\n",
        "# #############################################################################\n",
        "# The two Lasso implementations on Dense data\n",
        "print(\"--- Dense matrices\")\n",
        "\n",
        "X, y = make_regression(n_samples=200, n_features=5000, random_state=2)\n",
        "X_sp = sparse.coo_matrix(X)\n",
        "\n",
        "alpha = 1\n",
        "sparse_lasso = Lasso(alpha=alpha, fit_intercept=False, max_iter=1000)\n",
        "dense_lasso = Lasso(alpha=alpha, fit_intercept=False, max_iter=1000)\n",
        "\n",
        "t0 = time()\n",
        "sparse_lasso.fit(X_sp, y)\n",
        "print(\"Sparse Lasso done in %fs\" % (time() - t0))\n",
        "\n",
        "t0 = time()\n",
        "dense_lasso.fit(X, y)\n",
        "print(\"Dense Lasso done in %fs\" % (time() - t0))\n",
        "\n",
        "print(\"Distance between coefficients : %s\"\n",
        "      % linalg.norm(sparse_lasso.coef_ - dense_lasso.coef_))\n",
        "\n",
        "# #############################################################################\n",
        "# The two Lasso implementations on Sparse data\n",
        "print(\"--- Sparse matrices\")\n",
        "\n",
        "Xs = X.copy()\n",
        "Xs[Xs < 2.5] = 0.0\n",
        "Xs = sparse.coo_matrix(Xs)\n",
        "Xs = Xs.tocsc()\n",
        "\n",
        "print(\"Matrix density : %s %%\" % (Xs.nnz / float(X.size) * 100))\n",
        "\n",
        "alpha = 0.1\n",
        "sparse_lasso = Lasso(alpha=alpha, fit_intercept=False, max_iter=10000)\n",
        "dense_lasso = Lasso(alpha=alpha, fit_intercept=False, max_iter=10000)\n",
        "\n",
        "t0 = time()\n",
        "sparse_lasso.fit(Xs, y)\n",
        "print(\"Sparse Lasso done in %fs\" % (time() - t0))\n",
        "\n",
        "t0 = time()\n",
        "dense_lasso.fit(Xs.toarray(), y)\n",
        "print(\"Dense Lasso done in %fs\" % (time() - t0))\n",
        "\n",
        "print(\"Distance between coefficients : %s\"\n",
        "      % linalg.norm(sparse_lasso.coef_ - dense_lasso.coef_))"
      ],
      "execution_count": 2,
      "outputs": [
        {
          "output_type": "stream",
          "text": [
            "--- Dense matrices\n",
            "Sparse Lasso done in 0.124676s\n",
            "Dense Lasso done in 0.043485s\n",
            "Distance between coefficients : 4.1440924104876605e-14\n",
            "--- Sparse matrices\n",
            "Matrix density : 0.6157 %\n",
            "Sparse Lasso done in 0.155706s\n",
            "Dense Lasso done in 0.623972s\n",
            "Distance between coefficients : 1.2281634203103656e-11\n"
          ],
          "name": "stdout"
        }
      ]
    }
  ]
}